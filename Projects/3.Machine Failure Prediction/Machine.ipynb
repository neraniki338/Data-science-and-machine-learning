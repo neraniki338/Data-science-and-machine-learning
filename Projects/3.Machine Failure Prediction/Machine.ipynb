{
  "nbformat": 4,
  "nbformat_minor": 0,
  "metadata": {
    "colab": {
      "provenance": [],
      "toc_visible": true
    },
    "kernelspec": {
      "name": "python3",
      "display_name": "Python 3"
    },
    "language_info": {
      "name": "python"
    }
  },
  "cells": [
    {
      "cell_type": "code",
      "execution_count": null,
      "metadata": {
        "id": "b3uIGtx7XjqV"
      },
      "outputs": [],
      "source": [
        "import numpy as np\n",
        "import matplotlib.pyplot as plt\n",
        "import pandas as pd\n",
        "import seaborn as sns"
      ]
    },
    {
      "cell_type": "code",
      "source": [
        "machine_data=pd.read_csv(\"data.csv\")"
      ],
      "metadata": {
        "id": "hqoSoW7RXzXb"
      },
      "execution_count": null,
      "outputs": []
    },
    {
      "cell_type": "code",
      "source": [
        "machine_data.head(5)"
      ],
      "metadata": {
        "colab": {
          "base_uri": "https://localhost:8080/",
          "height": 206
        },
        "id": "neAuOSzKoRrf",
        "outputId": "bd104038-3ba0-4ce0-bb6e-5d1ed7a1e2e4"
      },
      "execution_count": null,
      "outputs": [
        {
          "output_type": "execute_result",
          "data": {
            "text/plain": [
              "   footfall  tempMode  AQ  USS  CS  VOC  RP  IP  Temperature  fail\n",
              "0         0         7   7    1   6    6  36   3            1     1\n",
              "1       190         1   3    3   5    1  20   4            1     0\n",
              "2        31         7   2    2   6    1  24   6            1     0\n",
              "3        83         4   3    4   5    1  28   6            1     0\n",
              "4       640         7   5    6   4    0  68   6            1     0"
            ],
            "text/html": [
              "\n",
              "  <div id=\"df-c894ae0d-4d7d-4f29-b6f7-a409cecac280\" class=\"colab-df-container\">\n",
              "    <div>\n",
              "<style scoped>\n",
              "    .dataframe tbody tr th:only-of-type {\n",
              "        vertical-align: middle;\n",
              "    }\n",
              "\n",
              "    .dataframe tbody tr th {\n",
              "        vertical-align: top;\n",
              "    }\n",
              "\n",
              "    .dataframe thead th {\n",
              "        text-align: right;\n",
              "    }\n",
              "</style>\n",
              "<table border=\"1\" class=\"dataframe\">\n",
              "  <thead>\n",
              "    <tr style=\"text-align: right;\">\n",
              "      <th></th>\n",
              "      <th>footfall</th>\n",
              "      <th>tempMode</th>\n",
              "      <th>AQ</th>\n",
              "      <th>USS</th>\n",
              "      <th>CS</th>\n",
              "      <th>VOC</th>\n",
              "      <th>RP</th>\n",
              "      <th>IP</th>\n",
              "      <th>Temperature</th>\n",
              "      <th>fail</th>\n",
              "    </tr>\n",
              "  </thead>\n",
              "  <tbody>\n",
              "    <tr>\n",
              "      <th>0</th>\n",
              "      <td>0</td>\n",
              "      <td>7</td>\n",
              "      <td>7</td>\n",
              "      <td>1</td>\n",
              "      <td>6</td>\n",
              "      <td>6</td>\n",
              "      <td>36</td>\n",
              "      <td>3</td>\n",
              "      <td>1</td>\n",
              "      <td>1</td>\n",
              "    </tr>\n",
              "    <tr>\n",
              "      <th>1</th>\n",
              "      <td>190</td>\n",
              "      <td>1</td>\n",
              "      <td>3</td>\n",
              "      <td>3</td>\n",
              "      <td>5</td>\n",
              "      <td>1</td>\n",
              "      <td>20</td>\n",
              "      <td>4</td>\n",
              "      <td>1</td>\n",
              "      <td>0</td>\n",
              "    </tr>\n",
              "    <tr>\n",
              "      <th>2</th>\n",
              "      <td>31</td>\n",
              "      <td>7</td>\n",
              "      <td>2</td>\n",
              "      <td>2</td>\n",
              "      <td>6</td>\n",
              "      <td>1</td>\n",
              "      <td>24</td>\n",
              "      <td>6</td>\n",
              "      <td>1</td>\n",
              "      <td>0</td>\n",
              "    </tr>\n",
              "    <tr>\n",
              "      <th>3</th>\n",
              "      <td>83</td>\n",
              "      <td>4</td>\n",
              "      <td>3</td>\n",
              "      <td>4</td>\n",
              "      <td>5</td>\n",
              "      <td>1</td>\n",
              "      <td>28</td>\n",
              "      <td>6</td>\n",
              "      <td>1</td>\n",
              "      <td>0</td>\n",
              "    </tr>\n",
              "    <tr>\n",
              "      <th>4</th>\n",
              "      <td>640</td>\n",
              "      <td>7</td>\n",
              "      <td>5</td>\n",
              "      <td>6</td>\n",
              "      <td>4</td>\n",
              "      <td>0</td>\n",
              "      <td>68</td>\n",
              "      <td>6</td>\n",
              "      <td>1</td>\n",
              "      <td>0</td>\n",
              "    </tr>\n",
              "  </tbody>\n",
              "</table>\n",
              "</div>\n",
              "    <div class=\"colab-df-buttons\">\n",
              "\n",
              "  <div class=\"colab-df-container\">\n",
              "    <button class=\"colab-df-convert\" onclick=\"convertToInteractive('df-c894ae0d-4d7d-4f29-b6f7-a409cecac280')\"\n",
              "            title=\"Convert this dataframe to an interactive table.\"\n",
              "            style=\"display:none;\">\n",
              "\n",
              "  <svg xmlns=\"http://www.w3.org/2000/svg\" height=\"24px\" viewBox=\"0 -960 960 960\">\n",
              "    <path d=\"M120-120v-720h720v720H120Zm60-500h600v-160H180v160Zm220 220h160v-160H400v160Zm0 220h160v-160H400v160ZM180-400h160v-160H180v160Zm440 0h160v-160H620v160ZM180-180h160v-160H180v160Zm440 0h160v-160H620v160Z\"/>\n",
              "  </svg>\n",
              "    </button>\n",
              "\n",
              "  <style>\n",
              "    .colab-df-container {\n",
              "      display:flex;\n",
              "      gap: 12px;\n",
              "    }\n",
              "\n",
              "    .colab-df-convert {\n",
              "      background-color: #E8F0FE;\n",
              "      border: none;\n",
              "      border-radius: 50%;\n",
              "      cursor: pointer;\n",
              "      display: none;\n",
              "      fill: #1967D2;\n",
              "      height: 32px;\n",
              "      padding: 0 0 0 0;\n",
              "      width: 32px;\n",
              "    }\n",
              "\n",
              "    .colab-df-convert:hover {\n",
              "      background-color: #E2EBFA;\n",
              "      box-shadow: 0px 1px 2px rgba(60, 64, 67, 0.3), 0px 1px 3px 1px rgba(60, 64, 67, 0.15);\n",
              "      fill: #174EA6;\n",
              "    }\n",
              "\n",
              "    .colab-df-buttons div {\n",
              "      margin-bottom: 4px;\n",
              "    }\n",
              "\n",
              "    [theme=dark] .colab-df-convert {\n",
              "      background-color: #3B4455;\n",
              "      fill: #D2E3FC;\n",
              "    }\n",
              "\n",
              "    [theme=dark] .colab-df-convert:hover {\n",
              "      background-color: #434B5C;\n",
              "      box-shadow: 0px 1px 3px 1px rgba(0, 0, 0, 0.15);\n",
              "      filter: drop-shadow(0px 1px 2px rgba(0, 0, 0, 0.3));\n",
              "      fill: #FFFFFF;\n",
              "    }\n",
              "  </style>\n",
              "\n",
              "    <script>\n",
              "      const buttonEl =\n",
              "        document.querySelector('#df-c894ae0d-4d7d-4f29-b6f7-a409cecac280 button.colab-df-convert');\n",
              "      buttonEl.style.display =\n",
              "        google.colab.kernel.accessAllowed ? 'block' : 'none';\n",
              "\n",
              "      async function convertToInteractive(key) {\n",
              "        const element = document.querySelector('#df-c894ae0d-4d7d-4f29-b6f7-a409cecac280');\n",
              "        const dataTable =\n",
              "          await google.colab.kernel.invokeFunction('convertToInteractive',\n",
              "                                                    [key], {});\n",
              "        if (!dataTable) return;\n",
              "\n",
              "        const docLinkHtml = 'Like what you see? Visit the ' +\n",
              "          '<a target=\"_blank\" href=https://colab.research.google.com/notebooks/data_table.ipynb>data table notebook</a>'\n",
              "          + ' to learn more about interactive tables.';\n",
              "        element.innerHTML = '';\n",
              "        dataTable['output_type'] = 'display_data';\n",
              "        await google.colab.output.renderOutput(dataTable, element);\n",
              "        const docLink = document.createElement('div');\n",
              "        docLink.innerHTML = docLinkHtml;\n",
              "        element.appendChild(docLink);\n",
              "      }\n",
              "    </script>\n",
              "  </div>\n",
              "\n",
              "\n",
              "<div id=\"df-d7b54ee4-3376-4296-8990-3da31ba4e9e7\">\n",
              "  <button class=\"colab-df-quickchart\" onclick=\"quickchart('df-d7b54ee4-3376-4296-8990-3da31ba4e9e7')\"\n",
              "            title=\"Suggest charts\"\n",
              "            style=\"display:none;\">\n",
              "\n",
              "<svg xmlns=\"http://www.w3.org/2000/svg\" height=\"24px\"viewBox=\"0 0 24 24\"\n",
              "     width=\"24px\">\n",
              "    <g>\n",
              "        <path d=\"M19 3H5c-1.1 0-2 .9-2 2v14c0 1.1.9 2 2 2h14c1.1 0 2-.9 2-2V5c0-1.1-.9-2-2-2zM9 17H7v-7h2v7zm4 0h-2V7h2v10zm4 0h-2v-4h2v4z\"/>\n",
              "    </g>\n",
              "</svg>\n",
              "  </button>\n",
              "\n",
              "<style>\n",
              "  .colab-df-quickchart {\n",
              "      --bg-color: #E8F0FE;\n",
              "      --fill-color: #1967D2;\n",
              "      --hover-bg-color: #E2EBFA;\n",
              "      --hover-fill-color: #174EA6;\n",
              "      --disabled-fill-color: #AAA;\n",
              "      --disabled-bg-color: #DDD;\n",
              "  }\n",
              "\n",
              "  [theme=dark] .colab-df-quickchart {\n",
              "      --bg-color: #3B4455;\n",
              "      --fill-color: #D2E3FC;\n",
              "      --hover-bg-color: #434B5C;\n",
              "      --hover-fill-color: #FFFFFF;\n",
              "      --disabled-bg-color: #3B4455;\n",
              "      --disabled-fill-color: #666;\n",
              "  }\n",
              "\n",
              "  .colab-df-quickchart {\n",
              "    background-color: var(--bg-color);\n",
              "    border: none;\n",
              "    border-radius: 50%;\n",
              "    cursor: pointer;\n",
              "    display: none;\n",
              "    fill: var(--fill-color);\n",
              "    height: 32px;\n",
              "    padding: 0;\n",
              "    width: 32px;\n",
              "  }\n",
              "\n",
              "  .colab-df-quickchart:hover {\n",
              "    background-color: var(--hover-bg-color);\n",
              "    box-shadow: 0 1px 2px rgba(60, 64, 67, 0.3), 0 1px 3px 1px rgba(60, 64, 67, 0.15);\n",
              "    fill: var(--button-hover-fill-color);\n",
              "  }\n",
              "\n",
              "  .colab-df-quickchart-complete:disabled,\n",
              "  .colab-df-quickchart-complete:disabled:hover {\n",
              "    background-color: var(--disabled-bg-color);\n",
              "    fill: var(--disabled-fill-color);\n",
              "    box-shadow: none;\n",
              "  }\n",
              "\n",
              "  .colab-df-spinner {\n",
              "    border: 2px solid var(--fill-color);\n",
              "    border-color: transparent;\n",
              "    border-bottom-color: var(--fill-color);\n",
              "    animation:\n",
              "      spin 1s steps(1) infinite;\n",
              "  }\n",
              "\n",
              "  @keyframes spin {\n",
              "    0% {\n",
              "      border-color: transparent;\n",
              "      border-bottom-color: var(--fill-color);\n",
              "      border-left-color: var(--fill-color);\n",
              "    }\n",
              "    20% {\n",
              "      border-color: transparent;\n",
              "      border-left-color: var(--fill-color);\n",
              "      border-top-color: var(--fill-color);\n",
              "    }\n",
              "    30% {\n",
              "      border-color: transparent;\n",
              "      border-left-color: var(--fill-color);\n",
              "      border-top-color: var(--fill-color);\n",
              "      border-right-color: var(--fill-color);\n",
              "    }\n",
              "    40% {\n",
              "      border-color: transparent;\n",
              "      border-right-color: var(--fill-color);\n",
              "      border-top-color: var(--fill-color);\n",
              "    }\n",
              "    60% {\n",
              "      border-color: transparent;\n",
              "      border-right-color: var(--fill-color);\n",
              "    }\n",
              "    80% {\n",
              "      border-color: transparent;\n",
              "      border-right-color: var(--fill-color);\n",
              "      border-bottom-color: var(--fill-color);\n",
              "    }\n",
              "    90% {\n",
              "      border-color: transparent;\n",
              "      border-bottom-color: var(--fill-color);\n",
              "    }\n",
              "  }\n",
              "</style>\n",
              "\n",
              "  <script>\n",
              "    async function quickchart(key) {\n",
              "      const quickchartButtonEl =\n",
              "        document.querySelector('#' + key + ' button');\n",
              "      quickchartButtonEl.disabled = true;  // To prevent multiple clicks.\n",
              "      quickchartButtonEl.classList.add('colab-df-spinner');\n",
              "      try {\n",
              "        const charts = await google.colab.kernel.invokeFunction(\n",
              "            'suggestCharts', [key], {});\n",
              "      } catch (error) {\n",
              "        console.error('Error during call to suggestCharts:', error);\n",
              "      }\n",
              "      quickchartButtonEl.classList.remove('colab-df-spinner');\n",
              "      quickchartButtonEl.classList.add('colab-df-quickchart-complete');\n",
              "    }\n",
              "    (() => {\n",
              "      let quickchartButtonEl =\n",
              "        document.querySelector('#df-d7b54ee4-3376-4296-8990-3da31ba4e9e7 button');\n",
              "      quickchartButtonEl.style.display =\n",
              "        google.colab.kernel.accessAllowed ? 'block' : 'none';\n",
              "    })();\n",
              "  </script>\n",
              "</div>\n",
              "\n",
              "    </div>\n",
              "  </div>\n"
            ],
            "application/vnd.google.colaboratory.intrinsic+json": {
              "type": "dataframe",
              "variable_name": "machine_data",
              "summary": "{\n  \"name\": \"machine_data\",\n  \"rows\": 944,\n  \"fields\": [\n    {\n      \"column\": \"footfall\",\n      \"properties\": {\n        \"dtype\": \"number\",\n        \"std\": 1082,\n        \"min\": 0,\n        \"max\": 7300,\n        \"num_unique_values\": 99,\n        \"samples\": [\n          370,\n          170,\n          88\n        ],\n        \"semantic_type\": \"\",\n        \"description\": \"\"\n      }\n    },\n    {\n      \"column\": \"tempMode\",\n      \"properties\": {\n        \"dtype\": \"number\",\n        \"std\": 2,\n        \"min\": 0,\n        \"max\": 7,\n        \"num_unique_values\": 8,\n        \"samples\": [\n          1,\n          5,\n          7\n        ],\n        \"semantic_type\": \"\",\n        \"description\": \"\"\n      }\n    },\n    {\n      \"column\": \"AQ\",\n      \"properties\": {\n        \"dtype\": \"number\",\n        \"std\": 1,\n        \"min\": 1,\n        \"max\": 7,\n        \"num_unique_values\": 7,\n        \"samples\": [\n          7,\n          3,\n          6\n        ],\n        \"semantic_type\": \"\",\n        \"description\": \"\"\n      }\n    },\n    {\n      \"column\": \"USS\",\n      \"properties\": {\n        \"dtype\": \"number\",\n        \"std\": 1,\n        \"min\": 1,\n        \"max\": 7,\n        \"num_unique_values\": 7,\n        \"samples\": [\n          1,\n          3,\n          7\n        ],\n        \"semantic_type\": \"\",\n        \"description\": \"\"\n      }\n    },\n    {\n      \"column\": \"CS\",\n      \"properties\": {\n        \"dtype\": \"number\",\n        \"std\": 1,\n        \"min\": 1,\n        \"max\": 7,\n        \"num_unique_values\": 7,\n        \"samples\": [\n          6,\n          5,\n          2\n        ],\n        \"semantic_type\": \"\",\n        \"description\": \"\"\n      }\n    },\n    {\n      \"column\": \"VOC\",\n      \"properties\": {\n        \"dtype\": \"number\",\n        \"std\": 2,\n        \"min\": 0,\n        \"max\": 6,\n        \"num_unique_values\": 7,\n        \"samples\": [\n          6,\n          1,\n          5\n        ],\n        \"semantic_type\": \"\",\n        \"description\": \"\"\n      }\n    },\n    {\n      \"column\": \"RP\",\n      \"properties\": {\n        \"dtype\": \"number\",\n        \"std\": 16,\n        \"min\": 19,\n        \"max\": 91,\n        \"num_unique_values\": 71,\n        \"samples\": [\n          34,\n          36,\n          53\n        ],\n        \"semantic_type\": \"\",\n        \"description\": \"\"\n      }\n    },\n    {\n      \"column\": \"IP\",\n      \"properties\": {\n        \"dtype\": \"number\",\n        \"std\": 1,\n        \"min\": 1,\n        \"max\": 7,\n        \"num_unique_values\": 7,\n        \"samples\": [\n          3,\n          4,\n          1\n        ],\n        \"semantic_type\": \"\",\n        \"description\": \"\"\n      }\n    },\n    {\n      \"column\": \"Temperature\",\n      \"properties\": {\n        \"dtype\": \"number\",\n        \"std\": 5,\n        \"min\": 1,\n        \"max\": 24,\n        \"num_unique_values\": 24,\n        \"samples\": [\n          9,\n          17,\n          1\n        ],\n        \"semantic_type\": \"\",\n        \"description\": \"\"\n      }\n    },\n    {\n      \"column\": \"fail\",\n      \"properties\": {\n        \"dtype\": \"number\",\n        \"std\": 0,\n        \"min\": 0,\n        \"max\": 1,\n        \"num_unique_values\": 2,\n        \"samples\": [\n          0,\n          1\n        ],\n        \"semantic_type\": \"\",\n        \"description\": \"\"\n      }\n    }\n  ]\n}"
            }
          },
          "metadata": {},
          "execution_count": 21
        }
      ]
    },
    {
      "cell_type": "markdown",
      "source": [
        "# EDA"
      ],
      "metadata": {
        "id": "Wp35jQfk5iQm"
      }
    },
    {
      "cell_type": "code",
      "source": [
        "machine_data.describe()"
      ],
      "metadata": {
        "colab": {
          "base_uri": "https://localhost:8080/",
          "height": 300
        },
        "id": "KTvR2D9ilttF",
        "outputId": "6253d7aa-1d75-4a23-928c-461627e8a679"
      },
      "execution_count": null,
      "outputs": [
        {
          "output_type": "execute_result",
          "data": {
            "text/plain": [
              "          footfall    tempMode          AQ         USS          CS  \\\n",
              "count   944.000000  944.000000  944.000000  944.000000  944.000000   \n",
              "mean    306.381356    3.727754    4.325212    2.939619    5.394068   \n",
              "std    1082.606745    2.677235    1.438436    1.383725    1.269349   \n",
              "min       0.000000    0.000000    1.000000    1.000000    1.000000   \n",
              "25%       1.000000    1.000000    3.000000    2.000000    5.000000   \n",
              "50%      22.000000    3.000000    4.000000    3.000000    6.000000   \n",
              "75%     110.000000    7.000000    6.000000    4.000000    6.000000   \n",
              "max    7300.000000    7.000000    7.000000    7.000000    7.000000   \n",
              "\n",
              "              VOC          RP          IP  Temperature        fail  \n",
              "count  944.000000  944.000000  944.000000   944.000000  944.000000  \n",
              "mean     2.842161   47.043432    4.565678    16.331568    0.416314  \n",
              "std      2.273337   16.423130    1.599287     5.974781    0.493208  \n",
              "min      0.000000   19.000000    1.000000     1.000000    0.000000  \n",
              "25%      1.000000   34.000000    3.000000    14.000000    0.000000  \n",
              "50%      2.000000   44.000000    4.000000    17.000000    0.000000  \n",
              "75%      5.000000   58.000000    6.000000    21.000000    1.000000  \n",
              "max      6.000000   91.000000    7.000000    24.000000    1.000000  "
            ],
            "text/html": [
              "\n",
              "  <div id=\"df-e5e18f43-5412-4921-9615-ec46b5dcaa4b\" class=\"colab-df-container\">\n",
              "    <div>\n",
              "<style scoped>\n",
              "    .dataframe tbody tr th:only-of-type {\n",
              "        vertical-align: middle;\n",
              "    }\n",
              "\n",
              "    .dataframe tbody tr th {\n",
              "        vertical-align: top;\n",
              "    }\n",
              "\n",
              "    .dataframe thead th {\n",
              "        text-align: right;\n",
              "    }\n",
              "</style>\n",
              "<table border=\"1\" class=\"dataframe\">\n",
              "  <thead>\n",
              "    <tr style=\"text-align: right;\">\n",
              "      <th></th>\n",
              "      <th>footfall</th>\n",
              "      <th>tempMode</th>\n",
              "      <th>AQ</th>\n",
              "      <th>USS</th>\n",
              "      <th>CS</th>\n",
              "      <th>VOC</th>\n",
              "      <th>RP</th>\n",
              "      <th>IP</th>\n",
              "      <th>Temperature</th>\n",
              "      <th>fail</th>\n",
              "    </tr>\n",
              "  </thead>\n",
              "  <tbody>\n",
              "    <tr>\n",
              "      <th>count</th>\n",
              "      <td>944.000000</td>\n",
              "      <td>944.000000</td>\n",
              "      <td>944.000000</td>\n",
              "      <td>944.000000</td>\n",
              "      <td>944.000000</td>\n",
              "      <td>944.000000</td>\n",
              "      <td>944.000000</td>\n",
              "      <td>944.000000</td>\n",
              "      <td>944.000000</td>\n",
              "      <td>944.000000</td>\n",
              "    </tr>\n",
              "    <tr>\n",
              "      <th>mean</th>\n",
              "      <td>306.381356</td>\n",
              "      <td>3.727754</td>\n",
              "      <td>4.325212</td>\n",
              "      <td>2.939619</td>\n",
              "      <td>5.394068</td>\n",
              "      <td>2.842161</td>\n",
              "      <td>47.043432</td>\n",
              "      <td>4.565678</td>\n",
              "      <td>16.331568</td>\n",
              "      <td>0.416314</td>\n",
              "    </tr>\n",
              "    <tr>\n",
              "      <th>std</th>\n",
              "      <td>1082.606745</td>\n",
              "      <td>2.677235</td>\n",
              "      <td>1.438436</td>\n",
              "      <td>1.383725</td>\n",
              "      <td>1.269349</td>\n",
              "      <td>2.273337</td>\n",
              "      <td>16.423130</td>\n",
              "      <td>1.599287</td>\n",
              "      <td>5.974781</td>\n",
              "      <td>0.493208</td>\n",
              "    </tr>\n",
              "    <tr>\n",
              "      <th>min</th>\n",
              "      <td>0.000000</td>\n",
              "      <td>0.000000</td>\n",
              "      <td>1.000000</td>\n",
              "      <td>1.000000</td>\n",
              "      <td>1.000000</td>\n",
              "      <td>0.000000</td>\n",
              "      <td>19.000000</td>\n",
              "      <td>1.000000</td>\n",
              "      <td>1.000000</td>\n",
              "      <td>0.000000</td>\n",
              "    </tr>\n",
              "    <tr>\n",
              "      <th>25%</th>\n",
              "      <td>1.000000</td>\n",
              "      <td>1.000000</td>\n",
              "      <td>3.000000</td>\n",
              "      <td>2.000000</td>\n",
              "      <td>5.000000</td>\n",
              "      <td>1.000000</td>\n",
              "      <td>34.000000</td>\n",
              "      <td>3.000000</td>\n",
              "      <td>14.000000</td>\n",
              "      <td>0.000000</td>\n",
              "    </tr>\n",
              "    <tr>\n",
              "      <th>50%</th>\n",
              "      <td>22.000000</td>\n",
              "      <td>3.000000</td>\n",
              "      <td>4.000000</td>\n",
              "      <td>3.000000</td>\n",
              "      <td>6.000000</td>\n",
              "      <td>2.000000</td>\n",
              "      <td>44.000000</td>\n",
              "      <td>4.000000</td>\n",
              "      <td>17.000000</td>\n",
              "      <td>0.000000</td>\n",
              "    </tr>\n",
              "    <tr>\n",
              "      <th>75%</th>\n",
              "      <td>110.000000</td>\n",
              "      <td>7.000000</td>\n",
              "      <td>6.000000</td>\n",
              "      <td>4.000000</td>\n",
              "      <td>6.000000</td>\n",
              "      <td>5.000000</td>\n",
              "      <td>58.000000</td>\n",
              "      <td>6.000000</td>\n",
              "      <td>21.000000</td>\n",
              "      <td>1.000000</td>\n",
              "    </tr>\n",
              "    <tr>\n",
              "      <th>max</th>\n",
              "      <td>7300.000000</td>\n",
              "      <td>7.000000</td>\n",
              "      <td>7.000000</td>\n",
              "      <td>7.000000</td>\n",
              "      <td>7.000000</td>\n",
              "      <td>6.000000</td>\n",
              "      <td>91.000000</td>\n",
              "      <td>7.000000</td>\n",
              "      <td>24.000000</td>\n",
              "      <td>1.000000</td>\n",
              "    </tr>\n",
              "  </tbody>\n",
              "</table>\n",
              "</div>\n",
              "    <div class=\"colab-df-buttons\">\n",
              "\n",
              "  <div class=\"colab-df-container\">\n",
              "    <button class=\"colab-df-convert\" onclick=\"convertToInteractive('df-e5e18f43-5412-4921-9615-ec46b5dcaa4b')\"\n",
              "            title=\"Convert this dataframe to an interactive table.\"\n",
              "            style=\"display:none;\">\n",
              "\n",
              "  <svg xmlns=\"http://www.w3.org/2000/svg\" height=\"24px\" viewBox=\"0 -960 960 960\">\n",
              "    <path d=\"M120-120v-720h720v720H120Zm60-500h600v-160H180v160Zm220 220h160v-160H400v160Zm0 220h160v-160H400v160ZM180-400h160v-160H180v160Zm440 0h160v-160H620v160ZM180-180h160v-160H180v160Zm440 0h160v-160H620v160Z\"/>\n",
              "  </svg>\n",
              "    </button>\n",
              "\n",
              "  <style>\n",
              "    .colab-df-container {\n",
              "      display:flex;\n",
              "      gap: 12px;\n",
              "    }\n",
              "\n",
              "    .colab-df-convert {\n",
              "      background-color: #E8F0FE;\n",
              "      border: none;\n",
              "      border-radius: 50%;\n",
              "      cursor: pointer;\n",
              "      display: none;\n",
              "      fill: #1967D2;\n",
              "      height: 32px;\n",
              "      padding: 0 0 0 0;\n",
              "      width: 32px;\n",
              "    }\n",
              "\n",
              "    .colab-df-convert:hover {\n",
              "      background-color: #E2EBFA;\n",
              "      box-shadow: 0px 1px 2px rgba(60, 64, 67, 0.3), 0px 1px 3px 1px rgba(60, 64, 67, 0.15);\n",
              "      fill: #174EA6;\n",
              "    }\n",
              "\n",
              "    .colab-df-buttons div {\n",
              "      margin-bottom: 4px;\n",
              "    }\n",
              "\n",
              "    [theme=dark] .colab-df-convert {\n",
              "      background-color: #3B4455;\n",
              "      fill: #D2E3FC;\n",
              "    }\n",
              "\n",
              "    [theme=dark] .colab-df-convert:hover {\n",
              "      background-color: #434B5C;\n",
              "      box-shadow: 0px 1px 3px 1px rgba(0, 0, 0, 0.15);\n",
              "      filter: drop-shadow(0px 1px 2px rgba(0, 0, 0, 0.3));\n",
              "      fill: #FFFFFF;\n",
              "    }\n",
              "  </style>\n",
              "\n",
              "    <script>\n",
              "      const buttonEl =\n",
              "        document.querySelector('#df-e5e18f43-5412-4921-9615-ec46b5dcaa4b button.colab-df-convert');\n",
              "      buttonEl.style.display =\n",
              "        google.colab.kernel.accessAllowed ? 'block' : 'none';\n",
              "\n",
              "      async function convertToInteractive(key) {\n",
              "        const element = document.querySelector('#df-e5e18f43-5412-4921-9615-ec46b5dcaa4b');\n",
              "        const dataTable =\n",
              "          await google.colab.kernel.invokeFunction('convertToInteractive',\n",
              "                                                    [key], {});\n",
              "        if (!dataTable) return;\n",
              "\n",
              "        const docLinkHtml = 'Like what you see? Visit the ' +\n",
              "          '<a target=\"_blank\" href=https://colab.research.google.com/notebooks/data_table.ipynb>data table notebook</a>'\n",
              "          + ' to learn more about interactive tables.';\n",
              "        element.innerHTML = '';\n",
              "        dataTable['output_type'] = 'display_data';\n",
              "        await google.colab.output.renderOutput(dataTable, element);\n",
              "        const docLink = document.createElement('div');\n",
              "        docLink.innerHTML = docLinkHtml;\n",
              "        element.appendChild(docLink);\n",
              "      }\n",
              "    </script>\n",
              "  </div>\n",
              "\n",
              "\n",
              "<div id=\"df-4c9021f4-1743-4c11-8fe7-f3b9c50ecb68\">\n",
              "  <button class=\"colab-df-quickchart\" onclick=\"quickchart('df-4c9021f4-1743-4c11-8fe7-f3b9c50ecb68')\"\n",
              "            title=\"Suggest charts\"\n",
              "            style=\"display:none;\">\n",
              "\n",
              "<svg xmlns=\"http://www.w3.org/2000/svg\" height=\"24px\"viewBox=\"0 0 24 24\"\n",
              "     width=\"24px\">\n",
              "    <g>\n",
              "        <path d=\"M19 3H5c-1.1 0-2 .9-2 2v14c0 1.1.9 2 2 2h14c1.1 0 2-.9 2-2V5c0-1.1-.9-2-2-2zM9 17H7v-7h2v7zm4 0h-2V7h2v10zm4 0h-2v-4h2v4z\"/>\n",
              "    </g>\n",
              "</svg>\n",
              "  </button>\n",
              "\n",
              "<style>\n",
              "  .colab-df-quickchart {\n",
              "      --bg-color: #E8F0FE;\n",
              "      --fill-color: #1967D2;\n",
              "      --hover-bg-color: #E2EBFA;\n",
              "      --hover-fill-color: #174EA6;\n",
              "      --disabled-fill-color: #AAA;\n",
              "      --disabled-bg-color: #DDD;\n",
              "  }\n",
              "\n",
              "  [theme=dark] .colab-df-quickchart {\n",
              "      --bg-color: #3B4455;\n",
              "      --fill-color: #D2E3FC;\n",
              "      --hover-bg-color: #434B5C;\n",
              "      --hover-fill-color: #FFFFFF;\n",
              "      --disabled-bg-color: #3B4455;\n",
              "      --disabled-fill-color: #666;\n",
              "  }\n",
              "\n",
              "  .colab-df-quickchart {\n",
              "    background-color: var(--bg-color);\n",
              "    border: none;\n",
              "    border-radius: 50%;\n",
              "    cursor: pointer;\n",
              "    display: none;\n",
              "    fill: var(--fill-color);\n",
              "    height: 32px;\n",
              "    padding: 0;\n",
              "    width: 32px;\n",
              "  }\n",
              "\n",
              "  .colab-df-quickchart:hover {\n",
              "    background-color: var(--hover-bg-color);\n",
              "    box-shadow: 0 1px 2px rgba(60, 64, 67, 0.3), 0 1px 3px 1px rgba(60, 64, 67, 0.15);\n",
              "    fill: var(--button-hover-fill-color);\n",
              "  }\n",
              "\n",
              "  .colab-df-quickchart-complete:disabled,\n",
              "  .colab-df-quickchart-complete:disabled:hover {\n",
              "    background-color: var(--disabled-bg-color);\n",
              "    fill: var(--disabled-fill-color);\n",
              "    box-shadow: none;\n",
              "  }\n",
              "\n",
              "  .colab-df-spinner {\n",
              "    border: 2px solid var(--fill-color);\n",
              "    border-color: transparent;\n",
              "    border-bottom-color: var(--fill-color);\n",
              "    animation:\n",
              "      spin 1s steps(1) infinite;\n",
              "  }\n",
              "\n",
              "  @keyframes spin {\n",
              "    0% {\n",
              "      border-color: transparent;\n",
              "      border-bottom-color: var(--fill-color);\n",
              "      border-left-color: var(--fill-color);\n",
              "    }\n",
              "    20% {\n",
              "      border-color: transparent;\n",
              "      border-left-color: var(--fill-color);\n",
              "      border-top-color: var(--fill-color);\n",
              "    }\n",
              "    30% {\n",
              "      border-color: transparent;\n",
              "      border-left-color: var(--fill-color);\n",
              "      border-top-color: var(--fill-color);\n",
              "      border-right-color: var(--fill-color);\n",
              "    }\n",
              "    40% {\n",
              "      border-color: transparent;\n",
              "      border-right-color: var(--fill-color);\n",
              "      border-top-color: var(--fill-color);\n",
              "    }\n",
              "    60% {\n",
              "      border-color: transparent;\n",
              "      border-right-color: var(--fill-color);\n",
              "    }\n",
              "    80% {\n",
              "      border-color: transparent;\n",
              "      border-right-color: var(--fill-color);\n",
              "      border-bottom-color: var(--fill-color);\n",
              "    }\n",
              "    90% {\n",
              "      border-color: transparent;\n",
              "      border-bottom-color: var(--fill-color);\n",
              "    }\n",
              "  }\n",
              "</style>\n",
              "\n",
              "  <script>\n",
              "    async function quickchart(key) {\n",
              "      const quickchartButtonEl =\n",
              "        document.querySelector('#' + key + ' button');\n",
              "      quickchartButtonEl.disabled = true;  // To prevent multiple clicks.\n",
              "      quickchartButtonEl.classList.add('colab-df-spinner');\n",
              "      try {\n",
              "        const charts = await google.colab.kernel.invokeFunction(\n",
              "            'suggestCharts', [key], {});\n",
              "      } catch (error) {\n",
              "        console.error('Error during call to suggestCharts:', error);\n",
              "      }\n",
              "      quickchartButtonEl.classList.remove('colab-df-spinner');\n",
              "      quickchartButtonEl.classList.add('colab-df-quickchart-complete');\n",
              "    }\n",
              "    (() => {\n",
              "      let quickchartButtonEl =\n",
              "        document.querySelector('#df-4c9021f4-1743-4c11-8fe7-f3b9c50ecb68 button');\n",
              "      quickchartButtonEl.style.display =\n",
              "        google.colab.kernel.accessAllowed ? 'block' : 'none';\n",
              "    })();\n",
              "  </script>\n",
              "</div>\n",
              "\n",
              "    </div>\n",
              "  </div>\n"
            ],
            "application/vnd.google.colaboratory.intrinsic+json": {
              "type": "dataframe",
              "summary": "{\n  \"name\": \"machine_data\",\n  \"rows\": 8,\n  \"fields\": [\n    {\n      \"column\": \"footfall\",\n      \"properties\": {\n        \"dtype\": \"number\",\n        \"std\": 2493.9301299388376,\n        \"min\": 0.0,\n        \"max\": 7300.0,\n        \"num_unique_values\": 8,\n        \"samples\": [\n          306.3813559322034,\n          22.0,\n          944.0\n        ],\n        \"semantic_type\": \"\",\n        \"description\": \"\"\n      }\n    },\n    {\n      \"column\": \"tempMode\",\n      \"properties\": {\n        \"dtype\": \"number\",\n        \"std\": 332.5312092618602,\n        \"min\": 0.0,\n        \"max\": 944.0,\n        \"num_unique_values\": 7,\n        \"samples\": [\n          944.0,\n          3.7277542372881354,\n          3.0\n        ],\n        \"semantic_type\": \"\",\n        \"description\": \"\"\n      }\n    },\n    {\n      \"column\": \"AQ\",\n      \"properties\": {\n        \"dtype\": \"number\",\n        \"std\": 332.4089604723971,\n        \"min\": 1.0,\n        \"max\": 944.0,\n        \"num_unique_values\": 8,\n        \"samples\": [\n          4.325211864406779,\n          4.0,\n          944.0\n        ],\n        \"semantic_type\": \"\",\n        \"description\": \"\"\n      }\n    },\n    {\n      \"column\": \"USS\",\n      \"properties\": {\n        \"dtype\": \"number\",\n        \"std\": 332.68269121506137,\n        \"min\": 1.0,\n        \"max\": 944.0,\n        \"num_unique_values\": 8,\n        \"samples\": [\n          2.9396186440677967,\n          3.0,\n          944.0\n        ],\n        \"semantic_type\": \"\",\n        \"description\": \"\"\n      }\n    },\n    {\n      \"column\": \"CS\",\n      \"properties\": {\n        \"dtype\": \"number\",\n        \"std\": 332.16257191262105,\n        \"min\": 1.0,\n        \"max\": 944.0,\n        \"num_unique_values\": 7,\n        \"samples\": [\n          944.0,\n          5.3940677966101696,\n          6.0\n        ],\n        \"semantic_type\": \"\",\n        \"description\": \"\"\n      }\n    },\n    {\n      \"column\": \"VOC\",\n      \"properties\": {\n        \"dtype\": \"number\",\n        \"std\": 332.79472718725947,\n        \"min\": 0.0,\n        \"max\": 944.0,\n        \"num_unique_values\": 8,\n        \"samples\": [\n          2.8421610169491527,\n          2.0,\n          944.0\n        ],\n        \"semantic_type\": \"\",\n        \"description\": \"\"\n      }\n    },\n    {\n      \"column\": \"RP\",\n      \"properties\": {\n        \"dtype\": \"number\",\n        \"std\": 318.9983208105749,\n        \"min\": 16.423130472188713,\n        \"max\": 944.0,\n        \"num_unique_values\": 8,\n        \"samples\": [\n          47.043432203389834,\n          44.0,\n          944.0\n        ],\n        \"semantic_type\": \"\",\n        \"description\": \"\"\n      }\n    },\n    {\n      \"column\": \"IP\",\n      \"properties\": {\n        \"dtype\": \"number\",\n        \"std\": 332.3885913384278,\n        \"min\": 1.0,\n        \"max\": 944.0,\n        \"num_unique_values\": 8,\n        \"samples\": [\n          4.565677966101695,\n          4.0,\n          944.0\n        ],\n        \"semantic_type\": \"\",\n        \"description\": \"\"\n      }\n    },\n    {\n      \"column\": \"Temperature\",\n      \"properties\": {\n        \"dtype\": \"number\",\n        \"std\": 328.8248341735301,\n        \"min\": 1.0,\n        \"max\": 944.0,\n        \"num_unique_values\": 8,\n        \"samples\": [\n          16.33156779661017,\n          17.0,\n          944.0\n        ],\n        \"semantic_type\": \"\",\n        \"description\": \"\"\n      }\n    },\n    {\n      \"column\": \"fail\",\n      \"properties\": {\n        \"dtype\": \"number\",\n        \"std\": 333.6077061646051,\n        \"min\": 0.0,\n        \"max\": 944.0,\n        \"num_unique_values\": 5,\n        \"samples\": [\n          0.4163135593220339,\n          1.0,\n          0.49320813481593295\n        ],\n        \"semantic_type\": \"\",\n        \"description\": \"\"\n      }\n    }\n  ]\n}"
            }
          },
          "metadata": {},
          "execution_count": 18
        }
      ]
    },
    {
      "cell_type": "code",
      "source": [
        "machine_data['Temperature'].value_counts()"
      ],
      "metadata": {
        "colab": {
          "base_uri": "https://localhost:8080/"
        },
        "id": "9hbu_Bm5mJxK",
        "outputId": "7a15b04a-b8e6-4e4a-8bd9-a43191887bdf"
      },
      "execution_count": null,
      "outputs": [
        {
          "output_type": "execute_result",
          "data": {
            "text/plain": [
              "Temperature\n",
              "21    103\n",
              "20    100\n",
              "16     70\n",
              "24     68\n",
              "15     68\n",
              "17     62\n",
              "22     53\n",
              "19     51\n",
              "18     48\n",
              "23     47\n",
              "14     39\n",
              "12     35\n",
              "13     26\n",
              "11     23\n",
              "4      19\n",
              "1      19\n",
              "5      18\n",
              "8      17\n",
              "3      17\n",
              "10     15\n",
              "6      13\n",
              "2      12\n",
              "7      11\n",
              "9      10\n",
              "Name: count, dtype: int64"
            ]
          },
          "metadata": {},
          "execution_count": 39
        }
      ]
    },
    {
      "cell_type": "code",
      "source": [
        "machine_data.info()"
      ],
      "metadata": {
        "colab": {
          "base_uri": "https://localhost:8080/"
        },
        "id": "eKEQssYVYIAc",
        "outputId": "1a5657d7-8220-4ed9-e63e-b0259b5571e8"
      },
      "execution_count": null,
      "outputs": [
        {
          "output_type": "stream",
          "name": "stdout",
          "text": [
            "<class 'pandas.core.frame.DataFrame'>\n",
            "RangeIndex: 944 entries, 0 to 943\n",
            "Data columns (total 10 columns):\n",
            " #   Column       Non-Null Count  Dtype\n",
            "---  ------       --------------  -----\n",
            " 0   footfall     944 non-null    int64\n",
            " 1   tempMode     944 non-null    int64\n",
            " 2   AQ           944 non-null    int64\n",
            " 3   USS          944 non-null    int64\n",
            " 4   CS           944 non-null    int64\n",
            " 5   VOC          944 non-null    int64\n",
            " 6   RP           944 non-null    int64\n",
            " 7   IP           944 non-null    int64\n",
            " 8   Temperature  944 non-null    int64\n",
            " 9   fail         944 non-null    int64\n",
            "dtypes: int64(10)\n",
            "memory usage: 73.9 KB\n"
          ]
        }
      ]
    },
    {
      "cell_type": "code",
      "source": [
        "plt.figure(figsize=(8,7))\n",
        "sns.heatmap(machine_data.corr(),cmap='coolwarm', annot=True,cbar_kws={\"shrink\": .8})"
      ],
      "metadata": {
        "colab": {
          "base_uri": "https://localhost:8080/",
          "height": 690
        },
        "id": "sH66RYM7YMAC",
        "outputId": "e238f340-f5a7-47ec-b438-b590e344d716"
      },
      "execution_count": null,
      "outputs": [
        {
          "output_type": "execute_result",
          "data": {
            "text/plain": [
              "<Axes: >"
            ]
          },
          "metadata": {},
          "execution_count": 30
        },
        {
          "output_type": "display_data",
          "data": {
            "text/plain": [
              "<Figure size 800x700 with 2 Axes>"
            ],
            "image/png": "[encoded data removed]"
          },
          "metadata": {}
        }
      ]
    },
    {
      "cell_type": "markdown",
      "source": [
        "## Note: Machine failure mostly depends on VOC,AQ,USS"
      ],
      "metadata": {
        "id": "tMEsifYcesTy"
      }
    },
    {
      "cell_type": "code",
      "source": [
        "machine_data.isnull().sum()"
      ],
      "metadata": {
        "colab": {
          "base_uri": "https://localhost:8080/"
        },
        "id": "23PvIRgSchBz",
        "outputId": "f28c0534-ec5e-4a32-ac29-b91196bcc483"
      },
      "execution_count": null,
      "outputs": [
        {
          "output_type": "execute_result",
          "data": {
            "text/plain": [
              "footfall       0\n",
              "tempMode       0\n",
              "AQ             0\n",
              "USS            0\n",
              "CS             0\n",
              "VOC            0\n",
              "RP             0\n",
              "IP             0\n",
              "Temperature    0\n",
              "fail           0\n",
              "dtype: int64"
            ]
          },
          "metadata": {},
          "execution_count": 12
        }
      ]
    },
    {
      "cell_type": "code",
      "source": [
        "print(machine_data.duplicated().sum())\n",
        "duplicate_rows = machine_data[machine_data.duplicated(keep=False)]\n",
        "print(duplicate_rows)"
      ],
      "metadata": {
        "colab": {
          "base_uri": "https://localhost:8080/"
        },
        "id": "qVz5D8smgJdj",
        "outputId": "e7ee477b-0837-4f86-9c3f-7e1bf3f423c8"
      },
      "execution_count": null,
      "outputs": [
        {
          "output_type": "stream",
          "name": "stdout",
          "text": [
            "1\n",
            "     footfall  tempMode  AQ  USS  CS  VOC  RP  IP  Temperature  fail\n",
            "730        31         5   3    3   6    1  48   6           21     0\n",
            "766        31         5   3    3   6    1  48   6           21     0\n"
          ]
        }
      ]
    },
    {
      "cell_type": "code",
      "source": [
        "machine_data_1=machine_data.drop_duplicates()\n",
        "print(machine_data_1.duplicated().sum())"
      ],
      "metadata": {
        "colab": {
          "base_uri": "https://localhost:8080/"
        },
        "id": "p554MV1igZg9",
        "outputId": "21724880-57b5-4114-c55f-a6d0350911a7"
      },
      "execution_count": null,
      "outputs": [
        {
          "output_type": "stream",
          "name": "stdout",
          "text": [
            "0\n"
          ]
        }
      ]
    },
    {
      "cell_type": "code",
      "source": [
        "plt.figure(figsize=(13,10))\n",
        "plt.subplot(2,2,1)\n",
        "sns.boxplot(x='fail', y='VOC', data=machine_data)\n",
        "plt.title('Box Plot of VOC by Target')\n",
        "plt.subplot(2,2,2)\n",
        "sns.boxplot(x='fail', y='AQ', data=machine_data)\n",
        "plt.title('Box Plot of AQ by Target')\n",
        "plt.subplot(2,2,3)\n",
        "sns.boxplot(x='fail', y='USS', data=machine_data)\n",
        "plt.title('Box Plot of USS by Target')\n",
        "plt.subplot(2,2,4)\n",
        "sns.boxplot(x='fail', y='Temperature', data=machine_data)\n",
        "plt.title('Box Plot of Temperature by Target')"
      ],
      "metadata": {
        "colab": {
          "base_uri": "https://localhost:8080/",
          "height": 889
        },
        "id": "s6ymqrFukxXG",
        "outputId": "cee7d23f-4838-4bd2-f2fe-4b18ba056ab8"
      },
      "execution_count": null,
      "outputs": [
        {
          "output_type": "execute_result",
          "data": {
            "text/plain": [
              "Text(0.5, 1.0, 'Box Plot of Temperature by Target')"
            ]
          },
          "metadata": {},
          "execution_count": 28
        },
        {
          "output_type": "display_data",
          "data": {
            "text/plain": [
              "<Figure size 1300x1000 with 4 Axes>"
            ],
            "image/png": "[encoded data removed]"
          },
          "metadata": {}
        }
      ]
    },
    {
      "cell_type": "code",
      "source": [
        "# Calculate IQR\n",
        "Q1 = machine_data_1['VOC'].quantile(0.25)\n",
        "Q3 = machine_data_1['VOC'].quantile(0.75)\n",
        "IQR = Q3 - Q1\n",
        "\n",
        "# Identify outliers\n",
        "outliers_iqr = machine_data_1[(machine_data_1['VOC'] < (Q1 - 1.5 * IQR)) | (machine_data_1['VOC'] > (Q3 + 1.5 * IQR))]\n",
        "print(\"Outliers using IQR:\")\n",
        "print(outliers_iqr)\n"
      ],
      "metadata": {
        "colab": {
          "base_uri": "https://localhost:8080/"
        },
        "id": "IV6jfHRKofrM",
        "outputId": "6df739d0-7a10-48f8-cb80-485b42fb08c3"
      },
      "execution_count": null,
      "outputs": [
        {
          "output_type": "stream",
          "name": "stdout",
          "text": [
            "Outliers using IQR:\n",
            "Empty DataFrame\n",
            "Columns: [footfall, tempMode, AQ, USS, CS, VOC, RP, IP, Temperature, fail]\n",
            "Index: []\n"
          ]
        }
      ]
    },
    {
      "cell_type": "markdown",
      "source": [],
      "metadata": {
        "id": "8kUbYQhuAK5d"
      }
    },
    {
      "cell_type": "markdown",
      "source": [
        "# Data"
      ],
      "metadata": {
        "id": "9JoGUFORg9N4"
      }
    },
    {
      "cell_type": "code",
      "source": [
        "from sklearn.model_selection import train_test_split\n",
        "X=machine_data_1.iloc[:,:-1].values\n",
        "y=machine_data_1.iloc[:,-1].values\n",
        "X_train, X_test, y_train, y_test = train_test_split(X, y, test_size=0.20, random_state=42)\n",
        "from sklearn.model_selection import GridSearchCV"
      ],
      "metadata": {
        "id": "TFM64f6CqqPG"
      },
      "execution_count": null,
      "outputs": []
    },
    {
      "cell_type": "markdown",
      "source": [
        "# Decision Tree Model"
      ],
      "metadata": {
        "id": "4zpXf02rjAI_"
      }
    },
    {
      "cell_type": "code",
      "source": [
        "\n",
        "\n",
        "param_grid = {\n",
        "    'max_depth': [None, 3, 6, 9],\n",
        "    'min_samples_leaf': [1,5,10],\n",
        "    'criterion': ['entropy','gini']\n",
        "}\n",
        "grid_search = GridSearchCV(DT_1, param_grid, cv=5)\n",
        "grid_search.fit(X_train, y_train)\n",
        "best_params = grid_search.best_params_\n",
        "print(best_params)"
      ],
      "metadata": {
        "id": "vxbwZdDHocgP"
      },
      "execution_count": null,
      "outputs": []
    },
    {
      "cell_type": "code",
      "source": [
        "from sklearn.tree import DecisionTreeClassifier\n",
        "from sklearn.metrics import accuracy_score,confusion_matrix,recall_score\n",
        "DT_1 = DecisionTreeClassifier(max_depth=3,min_samples_leaf=1,criterion='entropy')\n",
        "DT_1.fit(X_train, y_train)\n",
        "y_pred = DT_1.predict(X_test)\n",
        "accuracy = accuracy_score(y_test, y_pred)\n",
        "confusion_mtx=confusion_matrix(y_test, y_pred)\n",
        "recall_scr=recall_score(y_test, y_pred)\n",
        "print(\"accuracy score: {} and recall_score: {}\".format(accuracy,recall_scr))\n",
        "print(\"confusion_matrix:\")\n",
        "print(confusion_mtx)\n"
      ],
      "metadata": {
        "colab": {
          "base_uri": "https://localhost:8080/"
        },
        "id": "8hcri_8OhM6Z",
        "outputId": "48d510fa-6d84-4eb3-b655-7e7b04e9ddb3"
      },
      "execution_count": null,
      "outputs": [
        {
          "output_type": "stream",
          "name": "stdout",
          "text": [
            "accuracy score: 0.8941798941798942 and recall_score: 0.9213483146067416\n",
            "confusion_matrix:\n",
            "[[87 13]\n",
            " [ 7 82]]\n"
          ]
        }
      ]
    },
    {
      "cell_type": "code",
      "source": [
        "from sklearn.tree import plot_tree\n",
        "import matplotlib.pyplot as plt\n",
        "feature_names = machine_data_1.iloc[:,:-1].columns.tolist()\n",
        "class_names = ['good','fail']\n",
        "plt.figure(figsize=(10, 8))\n",
        "plot_tree(DT_1, filled=True, feature_names=feature_names, class_names=class_names)\n",
        "plt.show()"
      ],
      "metadata": {
        "colab": {
          "base_uri": "https://localhost:8080/",
          "height": 653
        },
        "id": "8aq2GlsOidsa",
        "outputId": "30c25c1b-5f33-42c7-f2f8-02dcb1771e6a"
      },
      "execution_count": null,
      "outputs": [
        {
          "output_type": "display_data",
          "data": {
            "text/plain": [
              "<Figure size 1000x800 with 1 Axes>"
            ],
            "image/png": "[encoded data removed]"
          },
          "metadata": {}
        }
      ]
    },
    {
      "cell_type": "code",
      "source": [
        "from sklearn.model_selection import cross_val_score, KFold\n",
        "cv_scores = cross_val_score(DT_1, X, y, cv=5, scoring='accuracy')\n",
        "print(\"Cross-validation scores:\", cv_scores)\n",
        "print(\"Mean accuracy:\", np.mean(cv_scores))"
      ],
      "metadata": {
        "colab": {
          "base_uri": "https://localhost:8080/"
        },
        "id": "lqqzBWk5irlz",
        "outputId": "c3c7f005-7dac-4f38-80bf-1d50e7f5f320"
      },
      "execution_count": null,
      "outputs": [
        {
          "output_type": "stream",
          "name": "stdout",
          "text": [
            "Cross-validation scores: [0.85714286 0.93650794 0.89417989 0.87765957 0.85106383]\n",
            "Mean accuracy: 0.8833108184172014\n"
          ]
        }
      ]
    },
    {
      "cell_type": "code",
      "source": [
        "from sklearn.model_selection import cross_val_score, KFold\n",
        "cv_scores = cross_val_score(DT_1, X, y, cv=5, scoring='recall')\n",
        "print(\"Cross-validation scores:\", cv_scores)\n",
        "print(\"Mean accuracy:\", np.mean(cv_scores))"
      ],
      "metadata": {
        "colab": {
          "base_uri": "https://localhost:8080/"
        },
        "id": "rZYYyI7gnYuj",
        "outputId": "c6e7c21f-a4c6-46ab-e8d1-dd4d4db5e6d9"
      },
      "execution_count": null,
      "outputs": [
        {
          "output_type": "stream",
          "name": "stdout",
          "text": [
            "Cross-validation scores: [0.89873418 0.88607595 0.86075949 0.8974359  0.97435897]\n",
            "Mean accuracy: 0.9034728984096072\n"
          ]
        }
      ]
    },
    {
      "cell_type": "markdown",
      "source": [
        "# Random forest"
      ],
      "metadata": {
        "id": "SKqzGnmmwhhP"
      }
    },
    {
      "cell_type": "code",
      "source": [
        "from sklearn.ensemble import RandomForestClassifier\n",
        "from sklearn.metrics import accuracy_score, classification_report, confusion_matrix,recall_score"
      ],
      "metadata": {
        "id": "6uoXgOIVwcbq"
      },
      "execution_count": null,
      "outputs": []
    },
    {
      "cell_type": "code",
      "source": [
        "import warnings\n",
        "warnings.filterwarnings('ignore')\n",
        "RF_1 = RandomForestClassifier(random_state=2)\n",
        "\n",
        "param_grid = {\n",
        "    'n_estimators': [5, 10, 15],\n",
        "    'max_depth': [None, 3,6,9],\n",
        "    'min_samples_split': [2, 5, 10],  # Minimum samples required to split an internal node\n",
        "    'min_samples_leaf': [1, 2, 4],    # Minimum samples required to be at a leaf node\n",
        "    'max_features': ['auto', 'sqrt', 'log2'],\n",
        "    'bootstrap': [True, False]\n",
        "}\n",
        "\n",
        "grid_search = GridSearchCV(estimator=RF_1, param_grid=param_grid,\n",
        "                           cv=5, scoring='accuracy')\n",
        "\n",
        "grid_search.fit(X_train, y_train)\n",
        "\n",
        "print(\"Best Parameters found: \", grid_search.best_params_)\n",
        "print(\"Best Accuracy found: \", grid_search.best_score_)\n",
        "\n"
      ],
      "metadata": {
        "colab": {
          "base_uri": "https://localhost:8080/"
        },
        "id": "nSBVuKd_zv8i",
        "outputId": "725e3462-5e6e-4f95-8b27-6acd7f4f2292"
      },
      "execution_count": null,
      "outputs": [
        {
          "output_type": "stream",
          "name": "stdout",
          "text": [
            "Best Parameters found:  {'bootstrap': True, 'max_depth': 9, 'max_features': 'auto', 'min_samples_leaf': 2, 'min_samples_split': 5, 'n_estimators': 10}\n",
            "Best Accuracy found:  0.9137924944812361\n"
          ]
        }
      ]
    },
    {
      "cell_type": "code",
      "source": [
        "RF_2 = RandomForestClassifier(random_state=3,n_estimators=10,max_depth=9,min_samples_split=5,\n",
        "                              min_samples_leaf=2,max_features='auto',bootstrap=True)\n",
        "\n",
        "RF_2.fit(X_train, y_train)\n",
        "y_pred = RF_2.predict(X_test)\n",
        "\n",
        "print(\"Accuracy on test set: \", accuracy_score(y_test, y_pred))\n",
        "print(\"Classification Report:\")\n",
        "print(classification_report(y_test, y_pred))\n",
        "print(\"Confusion Matrix:\")\n",
        "print(confusion_matrix(y_test, y_pred))"
      ],
      "metadata": {
        "colab": {
          "base_uri": "https://localhost:8080/"
        },
        "id": "TxKAQw9R09kR",
        "outputId": "f65ea551-91d8-47fc-bdcc-ec48448901ba"
      },
      "execution_count": null,
      "outputs": [
        {
          "output_type": "stream",
          "name": "stdout",
          "text": [
            "Accuracy on test set:  0.91005291005291\n",
            "Classification Report:\n",
            "              precision    recall  f1-score   support\n",
            "\n",
            "           0       0.92      0.91      0.91       100\n",
            "           1       0.90      0.91      0.91        89\n",
            "\n",
            "    accuracy                           0.91       189\n",
            "   macro avg       0.91      0.91      0.91       189\n",
            "weighted avg       0.91      0.91      0.91       189\n",
            "\n",
            "Confusion Matrix:\n",
            "[[91  9]\n",
            " [ 8 81]]\n"
          ]
        }
      ]
    },
    {
      "cell_type": "code",
      "source": [
        "from sklearn.model_selection import cross_val_score, KFold\n",
        "cv_scores = cross_val_score(RF_2, X, y, cv=5, scoring='accuracy')\n",
        "print(\"Cross-validation scores:\", cv_scores)\n",
        "print(\"Mean accuracy:\", np.mean(cv_scores))"
      ],
      "metadata": {
        "colab": {
          "base_uri": "https://localhost:8080/"
        },
        "id": "KNEBM1uAiv7P",
        "outputId": "d43fd78e-036c-46df-8011-5227f8d62c5e"
      },
      "execution_count": null,
      "outputs": [
        {
          "output_type": "stream",
          "name": "stdout",
          "text": [
            "Cross-validation scores: [0.88359788 0.92592593 0.8994709  0.88829787 0.90957447]\n",
            "Mean accuracy: 0.901373409884048\n"
          ]
        }
      ]
    },
    {
      "cell_type": "code",
      "source": [
        "from sklearn.model_selection import cross_val_score, KFold\n",
        "cv_scores = cross_val_score(RF_2, X, y, cv=5, scoring='recall')\n",
        "print(\"Cross-validation scores :\", cv_scores)\n",
        "print(\"Mean accuracy:\", np.mean(cv_scores))"
      ],
      "metadata": {
        "colab": {
          "base_uri": "https://localhost:8080/"
        },
        "id": "IZbuxcrtmxeK",
        "outputId": "1303de92-19ec-4225-f6b9-b2c556b101ed"
      },
      "execution_count": null,
      "outputs": [
        {
          "output_type": "stream",
          "name": "stdout",
          "text": [
            "Cross-validation scores: [0.74683544 0.88607595 0.87341772 0.85897436 0.94871795]\n",
            "Mean accuracy: 0.8628042843232716\n"
          ]
        }
      ]
    },
    {
      "cell_type": "code",
      "source": [],
      "metadata": {
        "id": "aAclkxNsnkM_"
      },
      "execution_count": null,
      "outputs": []
    },
    {
      "cell_type": "markdown",
      "source": [
        "# Logistic regression"
      ],
      "metadata": {
        "id": "h2PW-7sSnwvu"
      }
    },
    {
      "cell_type": "code",
      "source": [
        "from sklearn.linear_model import LogisticRegression\n",
        "\n",
        "LG_1 = LogisticRegression(max_iter=1000, random_state=42)\n",
        "LG_1.fit(X_train, y_train)\n",
        "y_pred = LG_1.predict(X_test)\n",
        "\n",
        "accuracy = accuracy_score(y_test, y_pred)\n",
        "print(\"Accuracy:\", accuracy)\n",
        "\n",
        "print(\"Classification Report:\")\n",
        "print(classification_report(y_test, y_pred))\n",
        "\n",
        "print(\"Confusion Matrix:\")\n",
        "print(confusion_matrix(y_test, y_pred))"
      ],
      "metadata": {
        "colab": {
          "base_uri": "https://localhost:8080/"
        },
        "id": "i_TF8WvDnyBs",
        "outputId": "60ed4ded-0e68-46e7-eb07-d5b4d3198759"
      },
      "execution_count": null,
      "outputs": [
        {
          "output_type": "stream",
          "name": "stdout",
          "text": [
            "Accuracy: 0.8888888888888888\n",
            "Classification Report:\n",
            "              precision    recall  f1-score   support\n",
            "\n",
            "           0       0.91      0.88      0.89       100\n",
            "           1       0.87      0.90      0.88        89\n",
            "\n",
            "    accuracy                           0.89       189\n",
            "   macro avg       0.89      0.89      0.89       189\n",
            "weighted avg       0.89      0.89      0.89       189\n",
            "\n",
            "Confusion Matrix:\n",
            "[[88 12]\n",
            " [ 9 80]]\n"
          ]
        }
      ]
    },
    {
      "cell_type": "code",
      "source": [
        "from sklearn.model_selection import cross_val_score, KFold\n",
        "cv_scores = cross_val_score(LG_1, X, y, cv=5, scoring='accuracy')\n",
        "print(\"Cross-validation scores :\", cv_scores)\n",
        "print(\"Mean accuracy:\", np.mean(cv_scores))"
      ],
      "metadata": {
        "colab": {
          "base_uri": "https://localhost:8080/"
        },
        "id": "IJHCLX94pkoV",
        "outputId": "ac1daf39-fc73-4c8c-b010-ca05f5ef0fe3"
      },
      "execution_count": null,
      "outputs": [
        {
          "output_type": "stream",
          "name": "stdout",
          "text": [
            "Cross-validation scores : [0.8994709  0.91534392 0.91005291 0.89893617 0.87765957]\n",
            "Mean accuracy: 0.9002926939097151\n"
          ]
        }
      ]
    },
    {
      "cell_type": "code",
      "source": [
        "from sklearn.model_selection import cross_val_score, KFold\n",
        "cv_scores = cross_val_score(LG_1, X, y, cv=5, scoring='recall')\n",
        "print(\"Cross-validation scores :\", cv_scores)\n",
        "print(\"Mean accuracy:\", np.mean(cv_scores))"
      ],
      "metadata": {
        "colab": {
          "base_uri": "https://localhost:8080/"
        },
        "id": "JNOb7z9BzXKa",
        "outputId": "6cc1336b-ac90-4d30-bab9-91c5ad9c8a14"
      },
      "execution_count": null,
      "outputs": [
        {
          "output_type": "stream",
          "name": "stdout",
          "text": [
            "Cross-validation scores : [0.81012658 0.88607595 0.89873418 0.91025641 0.96153846]\n",
            "Mean accuracy: 0.8933463161311263\n"
          ]
        }
      ]
    },
    {
      "cell_type": "markdown",
      "source": [
        "# LDA"
      ],
      "metadata": {
        "id": "dTlGLK-l3X_f"
      }
    },
    {
      "cell_type": "code",
      "source": [
        "from sklearn.discriminant_analysis import LinearDiscriminantAnalysis\n",
        "LDA_1 = LinearDiscriminantAnalysis()\n",
        "LDA_1.fit(X_train, y_train)\n",
        "y_pred = LDA_1.predict(X_test)\n",
        "\n",
        "accuracy = accuracy_score(y_test, y_pred)\n",
        "print(\"Accuracy:\", accuracy)\n",
        "\n",
        "print(\"Classification Report:\")\n",
        "print(classification_report(y_test, y_pred))\n",
        "\n",
        "print(\"Confusion Matrix:\")\n",
        "print(confusion_matrix(y_test, y_pred))"
      ],
      "metadata": {
        "colab": {
          "base_uri": "https://localhost:8080/"
        },
        "id": "-k0LEkbpzaRJ",
        "outputId": "6c7579a6-169f-46bd-b9f7-14a6f49e98a3"
      },
      "execution_count": null,
      "outputs": [
        {
          "output_type": "stream",
          "name": "stdout",
          "text": [
            "Accuracy: 0.9047619047619048\n",
            "Classification Report:\n",
            "              precision    recall  f1-score   support\n",
            "\n",
            "           0       0.94      0.88      0.91       100\n",
            "           1       0.87      0.93      0.90        89\n",
            "\n",
            "    accuracy                           0.90       189\n",
            "   macro avg       0.90      0.91      0.90       189\n",
            "weighted avg       0.91      0.90      0.90       189\n",
            "\n",
            "Confusion Matrix:\n",
            "[[88 12]\n",
            " [ 6 83]]\n"
          ]
        }
      ]
    },
    {
      "cell_type": "code",
      "source": [
        "from sklearn.model_selection import cross_val_score, KFold\n",
        "cv_scores = cross_val_score(LDA_1, X, y, cv=5, scoring='recall')\n",
        "print(\"Cross-validation scores :\", cv_scores)\n",
        "print(\"Mean accuracy:\", np.mean(cv_scores))"
      ],
      "metadata": {
        "colab": {
          "base_uri": "https://localhost:8080/"
        },
        "id": "HIr6f0Eu3kzr",
        "outputId": "0c96791f-d2c7-4e01-f4ef-bb76c85c7498"
      },
      "execution_count": null,
      "outputs": [
        {
          "output_type": "stream",
          "name": "stdout",
          "text": [
            "Cross-validation scores : [0.91139241 0.89873418 0.92405063 0.91025641 0.97435897]\n",
            "Mean accuracy: 0.9237585199610516\n"
          ]
        }
      ]
    },
    {
      "cell_type": "code",
      "source": [
        "from sklearn.model_selection import cross_val_score, KFold\n",
        "cv_scores = cross_val_score(LDA_1, X, y, cv=5, scoring='accuracy')\n",
        "print(\"Cross-validation scores :\", cv_scores)\n",
        "print(\"Mean accuracy:\", np.mean(cv_scores))"
      ],
      "metadata": {
        "colab": {
          "base_uri": "https://localhost:8080/"
        },
        "id": "fptKS0m24Jvj",
        "outputId": "d0e17651-7f3f-4dec-9990-7b16d4f81c57"
      },
      "execution_count": null,
      "outputs": [
        {
          "output_type": "stream",
          "name": "stdout",
          "text": [
            "Cross-validation scores : [0.93121693 0.92592593 0.92592593 0.88297872 0.89361702]\n",
            "Mean accuracy: 0.9119329055499268\n"
          ]
        }
      ]
    },
    {
      "cell_type": "markdown",
      "source": [
        "# Logistic+LDA"
      ],
      "metadata": {
        "id": "_4aCxZx64Rz4"
      }
    },
    {
      "cell_type": "code",
      "source": [
        "\n",
        "LDA_2 = LinearDiscriminantAnalysis()\n",
        "X_train_lda = LDA_2.fit_transform(X_train, y_train)\n",
        "X_test_lda = LDA_2.transform(X_test)\n",
        "\n",
        "LG_2 = LogisticRegression(max_iter=1000, random_state=42)\n",
        "LG_2.fit(X_train_lda, y_train)\n",
        "y_pred = LG_2.predict(X_test_lda)\n",
        "\n",
        "accuracy = accuracy_score(y_test, y_pred)\n",
        "print(\"Accuracy:\", accuracy)\n",
        "\n",
        "print(\"Classification Report:\")\n",
        "print(classification_report(y_test, y_pred))\n",
        "\n",
        "print(\"Confusion Matrix:\")\n",
        "print(confusion_matrix(y_test, y_pred))\n"
      ],
      "metadata": {
        "colab": {
          "base_uri": "https://localhost:8080/"
        },
        "id": "nuZgvrBI4OP8",
        "outputId": "b298877a-75af-404a-d081-90f7d6543918"
      },
      "execution_count": null,
      "outputs": [
        {
          "output_type": "stream",
          "name": "stdout",
          "text": [
            "Accuracy: 0.9047619047619048\n",
            "Classification Report:\n",
            "              precision    recall  f1-score   support\n",
            "\n",
            "           0       0.93      0.89      0.91       100\n",
            "           1       0.88      0.92      0.90        89\n",
            "\n",
            "    accuracy                           0.90       189\n",
            "   macro avg       0.90      0.91      0.90       189\n",
            "weighted avg       0.91      0.90      0.90       189\n",
            "\n",
            "Confusion Matrix:\n",
            "[[89 11]\n",
            " [ 7 82]]\n"
          ]
        }
      ]
    },
    {
      "cell_type": "code",
      "source": [
        "from sklearn.model_selection import cross_val_score, KFold\n",
        "cv_scores = cross_val_score(LG_2, X, y, cv=5, scoring='accuracy')\n",
        "print(\"Cross-validation scores :\", cv_scores)\n",
        "print(\"Mean accuracy:\", np.mean(cv_scores))"
      ],
      "metadata": {
        "colab": {
          "base_uri": "https://localhost:8080/"
        },
        "id": "mcBEcG3G4tAZ",
        "outputId": "b3ec5217-3c51-4bfe-d4a2-c3cc79fdec8d"
      },
      "execution_count": null,
      "outputs": [
        {
          "output_type": "stream",
          "name": "stdout",
          "text": [
            "Cross-validation scores : [0.8994709  0.91534392 0.91005291 0.89893617 0.87765957]\n",
            "Mean accuracy: 0.9002926939097151\n"
          ]
        }
      ]
    },
    {
      "cell_type": "code",
      "source": [
        "from sklearn.model_selection import cross_val_score, KFold\n",
        "cv_scores = cross_val_score(LG_2, X, y, cv=5, scoring='recall')\n",
        "print(\"Cross-validation scores :\", cv_scores)\n",
        "print(\"Mean accuracy:\", np.mean(cv_scores))"
      ],
      "metadata": {
        "colab": {
          "base_uri": "https://localhost:8080/"
        },
        "id": "elZz2WHH4yxM",
        "outputId": "d4c79ea0-d543-46a7-93c1-fd9e7853ab0b"
      },
      "execution_count": null,
      "outputs": [
        {
          "output_type": "stream",
          "name": "stdout",
          "text": [
            "Cross-validation scores : [0.81012658 0.88607595 0.89873418 0.91025641 0.96153846]\n",
            "Mean accuracy: 0.8933463161311263\n"
          ]
        }
      ]
    },
    {
      "cell_type": "code",
      "source": [],
      "metadata": {
        "id": "oYlKjkAV48o4"
      },
      "execution_count": null,
      "outputs": []
    },
    {
      "cell_type": "code",
      "source": [],
      "metadata": {
        "id": "5zjNwVFC5H4T"
      },
      "execution_count": null,
      "outputs": []
    }
  ]
}